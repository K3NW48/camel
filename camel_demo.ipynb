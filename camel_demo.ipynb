{
  "nbformat": 4,
  "nbformat_minor": 0,
  "metadata": {
    "colab": {
      "provenance": [],
      "include_colab_link": true
    },
    "kernelspec": {
      "name": "python3",
      "display_name": "Python 3"
    },
    "language_info": {
      "name": "python"
    }
  },
  "cells": [
    {
      "cell_type": "markdown",
      "metadata": {
        "id": "view-in-github",
        "colab_type": "text"
      },
      "source": [
        "<a href=\"https://colab.research.google.com/github/K3NW48/camel/blob/main/camel_demo.ipynb\" target=\"_parent\"><img src=\"https://colab.research.google.com/assets/colab-badge.svg\" alt=\"Open In Colab\"/></a>"
      ]
    },
    {
      "cell_type": "markdown",
      "source": [
        "# Clone repo and install requirements"
      ],
      "metadata": {
        "id": "guOSZ-Y5xBuT"
      }
    },
    {
      "cell_type": "code",
      "execution_count": null,
      "metadata": {
        "id": "0WUuvz0OmOnE"
      },
      "outputs": [],
      "source": [
        "! git clone https://github.com/lightaime/camel.git\n",
        "! pip install -e /content/camel"
      ]
    },
    {
      "cell_type": "markdown",
      "source": [
        "# Imports and Setup"
      ],
      "metadata": {
        "id": "wuI8Y9JXvoj1"
      }
    },
    {
      "cell_type": "code",
      "source": [
        "import os\n",
        "import openai\n",
        "import time\n",
        "from colorama import Fore\n",
        "\n",
        "os.chdir(\"/content/camel\")\n",
        "openai.api_key = \"Your OPENAI_API_KEY\" #@param {type:\"string\"}\n",
        "\n",
        "def print_text_animated(text):\n",
        "    for char in text:\n",
        "        print(char, end=\"\", flush=True)\n",
        "        time.sleep(0.02)"
      ],
      "metadata": {
        "id": "q2-ClmHAmPn6",
        "cellView": "form"
      },
      "execution_count": null,
      "outputs": []
    },
    {
      "cell_type": "markdown",
      "source": [
        "# The roles will work with eachother to complete the task prompt.**bold text**"
      ],
      "metadata": {
        "id": "zIRqLo3kwPtQ"
      }
    },
    {
      "cell_type": "code",
      "source": [
        "from camel.agent import RolePlaying\n",
        "  \n",
        "task_prompt = \"Design a custom game using pygame\" #@param {type:\"string\"}\n",
        "print(Fore.YELLOW + f\"Original task prompt:\\n{task_prompt}\\n\")\n",
        "role_one = \"Computer Programmer\" #@param {type:\"string\"}\n",
        "role_two = \"Gamer\" #@param {type:\"string\"}\n",
        "role_play_session = RolePlaying(role_one, role_two, task_prompt)\n",
        "print(Fore.CYAN + f\"Specified task prompt:\\n{role_play_session.task_prompt}\\n\")\n",
        "\n",
        "chat_turn_limit, n = 10, 0\n",
        "assistant_msg, _ = role_play_session.init_chat()\n",
        "while n < chat_turn_limit:\n",
        "    n += 1\n",
        "    (assistant_msg, _, _), (user_msg, _, _) = role_play_session.step(assistant_msg)\n",
        "    print_text_animated(Fore.BLUE + f\"AI User:\\n\\n{user_msg.content}\\n\\n\")\n",
        "    print_text_animated(Fore.GREEN + f\"AI Assistant:\\n\\n{assistant_msg.content}\\n\\n\")\n",
        "    if \"<CAMEL_TASK_DONE>\" in assistant_msg.content:\n",
        "        break\n"
      ],
      "metadata": {
        "id": "-IhYiAWDme66",
        "cellView": "form"
      },
      "execution_count": null,
      "outputs": []
    }
  ]
}